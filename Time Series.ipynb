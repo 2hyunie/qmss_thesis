{
 "cells": [
  {
   "cell_type": "markdown",
   "id": "0e464d89",
   "metadata": {},
   "source": [
    "# Time Series"
   ]
  },
  {
   "cell_type": "code",
   "execution_count": 1,
   "id": "250cf090",
   "metadata": {},
   "outputs": [],
   "source": [
    "# import libraries\n",
    "import os\n",
    "import sys\n",
    "import urllib.request\n",
    "import json\n",
    "import pandas as pd\n",
    "import seaborn as sns\n",
    "import matplotlib.pyplot as plt\n",
    "%matplotlib inline\n",
    "import plotly.express as px\n",
    "import plotly.graph_objects as go\n",
    "from pytrends.request import TrendReq"
   ]
  },
  {
   "cell_type": "markdown",
   "id": "9e150b8b",
   "metadata": {},
   "source": [
    "## 1. Importing Data & Cleaning\n",
    "\n",
    "* Google Trends\n",
    "* Count of articles in five newspapers over time\n",
    "* Covid-19 data\n",
    "* Hyundai EV, HEV, and PHEV sales data"
   ]
  },
  {
   "cell_type": "code",
   "execution_count": 2,
   "id": "08cf8c94",
   "metadata": {},
   "outputs": [],
   "source": [
    "# google trends\n",
    "\n",
    "pytrends = TrendReq(hl='ko', tz=540)\n",
    "\n",
    "kw_list = [\"전기차\", \"친환경\"]\n",
    "\n",
    "pytrends.build_payload(kw_list, cat=0, timeframe=\"2020-02-05 2022-11-01\", geo=\"KR\")\n",
    "google = pytrends.interest_over_time()\n",
    "google = google.reset_index()\n",
    "\n",
    "trends = pytrends.related_queries()\n",
    "top1 = trends[\"전기차\"][\"top\"]"
   ]
  },
  {
   "cell_type": "code",
   "execution_count": 3,
   "id": "59cc28be",
   "metadata": {},
   "outputs": [],
   "source": [
    "# naver news\n",
    "\n",
    "news = pd.read_csv(\"/Users/2hyunie/Documents/qmss_thesis/Datasets/raw/articles_ev.csv\")\n",
    "news['date'] = pd.to_datetime(news['date'])\n",
    "news['mean'] = news.mean(numeric_only=True, axis=1)"
   ]
  },
  {
   "cell_type": "code",
   "execution_count": 4,
   "id": "cc6902b7",
   "metadata": {},
   "outputs": [],
   "source": [
    "# covid data\n",
    "\n",
    "covid = pd.read_csv(\"/Users/2hyunie/Documents/qmss_thesis/Datasets/raw/covid_data.csv\")\n",
    "covid = covid.iloc[:, [0,1,2,6,11,12,15]]\n",
    "covid.columns = ['date', 'seoul_pat', 'seoul_new', 'seoul_death', 'nat_pat', 'nat_new', 'nat_death']\n",
    "covid['date'] = pd.to_datetime(covid['date'])"
   ]
  },
  {
   "cell_type": "code",
   "execution_count": 5,
   "id": "514438d3",
   "metadata": {},
   "outputs": [],
   "source": [
    "# ev sales data\n",
    "\n",
    "hyundai = pd.read_csv('/Users/2hyunie/Documents/qmss_thesis/Datasets/raw/hyundai.csv')\n",
    "hyundai = hyundai.fillna(0)\n",
    "hyundai['date'] = pd.to_datetime(hyundai['date'])\n",
    "hyundai['mean'] = hyundai.mean(numeric_only=True, axis=1)\n"
   ]
  },
  {
   "cell_type": "code",
   "execution_count": 6,
   "id": "135f37da",
   "metadata": {},
   "outputs": [
    {
     "name": "stdout",
     "output_type": "stream",
     "text": [
      "date\n",
      "avante_hev_d\n",
      "ioniq_hev_d\n",
      "ioniq_phev_d\n",
      "ioniq_ev_d\n",
      "sonata_hev_d\n",
      "sonata_phev_d\n",
      "sonata_dn8_hev_d\n",
      "grandeur_hev_d\n",
      "g80_ev_d\n",
      "kona_hev_d\n",
      "kona_ev_d\n",
      "tuscon_hev_d\n",
      "santa_hev_d\n",
      "gv70_ev_d\n",
      "avante_hev_e\n",
      "ioniq_hev_e\n",
      "ioniq_phev_e\n",
      "ioniq_ev_e\n",
      "sonata_hev_e\n",
      "sonata_phev_e\n",
      "sonata_dn8_hev_e\n",
      "grandeur_hev_e\n",
      "g80_ev_e\n",
      "kona_hev_e\n",
      "kona_ev_e\n",
      "tuscon_hev_e\n",
      "tuscon_phev_e\n",
      "santa_hev_e\n",
      "santa_phev_e\n",
      "gv70_ev_e\n",
      "mean\n"
     ]
    }
   ],
   "source": [
    "for col in hyundai.columns:\n",
    "    print(col)"
   ]
  },
  {
   "cell_type": "markdown",
   "id": "23343264",
   "metadata": {},
   "source": [
    "## 2. Simple OLS"
   ]
  },
  {
   "cell_type": "code",
   "execution_count": null,
   "id": "64bc9e9e",
   "metadata": {},
   "outputs": [],
   "source": []
  }
 ],
 "metadata": {
  "kernelspec": {
   "display_name": "Python 3",
   "language": "python",
   "name": "python3"
  },
  "language_info": {
   "codemirror_mode": {
    "name": "ipython",
    "version": 3
   },
   "file_extension": ".py",
   "mimetype": "text/x-python",
   "name": "python",
   "nbconvert_exporter": "python",
   "pygments_lexer": "ipython3",
   "version": "3.8.8"
  }
 },
 "nbformat": 4,
 "nbformat_minor": 5
}

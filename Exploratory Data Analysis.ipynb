{
 "cells": [
  {
   "cell_type": "markdown",
   "id": "1e3a388e",
   "metadata": {},
   "source": [
    "# Exploratory Data Analysis\n",
    "\n",
    "**List of datasets**\n",
    "\n",
    "* 자동차 요일제 참여 현황 가구주 19세 이상 인구\n",
    "* 현재 체감환경 대기 13세 이상 인구\n",
    "* 환경문제에 대한 인식 기후변화 13세 이상 인구\n",
    "* 환경오염 방지 노력 대중교통 이용하기 13세 이상 인구\n",
    "* 환경오염 방지 노력 친환경제품 구입/사용하기 13세 이상 인구\n",
    "* 환경문제에 대한 인식 미세먼지 유입 13세 이상 인구\n",
    "\n",
    "## Data Cleaning"
   ]
  },
  {
   "cell_type": "code",
   "execution_count": 1,
   "id": "e6ca9798",
   "metadata": {},
   "outputs": [
    {
     "name": "stdout",
     "output_type": "stream",
     "text": [
      "Requirement already satisfied: geopandas in /Users/2hyunie/opt/anaconda3/lib/python3.8/site-packages (0.12.1)\n",
      "Requirement already satisfied: fiona>=1.8 in /Users/2hyunie/opt/anaconda3/lib/python3.8/site-packages (from geopandas) (1.8.22)\n",
      "Requirement already satisfied: shapely>=1.7 in /Users/2hyunie/opt/anaconda3/lib/python3.8/site-packages (from geopandas) (1.8.5.post1)\n",
      "Requirement already satisfied: packaging in /Users/2hyunie/opt/anaconda3/lib/python3.8/site-packages (from geopandas) (20.9)\n",
      "Requirement already satisfied: pyproj>=2.6.1.post1 in /Users/2hyunie/opt/anaconda3/lib/python3.8/site-packages (from geopandas) (3.4.0)\n",
      "Requirement already satisfied: pandas>=1.0.0 in /Users/2hyunie/opt/anaconda3/lib/python3.8/site-packages (from geopandas) (1.2.4)\n",
      "Requirement already satisfied: click>=4.0 in /Users/2hyunie/opt/anaconda3/lib/python3.8/site-packages (from fiona>=1.8->geopandas) (7.1.2)\n",
      "Requirement already satisfied: setuptools in /Users/2hyunie/opt/anaconda3/lib/python3.8/site-packages (from fiona>=1.8->geopandas) (52.0.0.post20210125)\n",
      "Requirement already satisfied: certifi in /Users/2hyunie/opt/anaconda3/lib/python3.8/site-packages (from fiona>=1.8->geopandas) (2020.12.5)\n",
      "Requirement already satisfied: cligj>=0.5 in /Users/2hyunie/opt/anaconda3/lib/python3.8/site-packages (from fiona>=1.8->geopandas) (0.7.2)\n",
      "Requirement already satisfied: munch in /Users/2hyunie/opt/anaconda3/lib/python3.8/site-packages (from fiona>=1.8->geopandas) (2.5.0)\n",
      "Requirement already satisfied: six>=1.7 in /Users/2hyunie/opt/anaconda3/lib/python3.8/site-packages (from fiona>=1.8->geopandas) (1.15.0)\n",
      "Requirement already satisfied: attrs>=17 in /Users/2hyunie/opt/anaconda3/lib/python3.8/site-packages (from fiona>=1.8->geopandas) (20.3.0)\n",
      "Requirement already satisfied: click-plugins>=1.0 in /Users/2hyunie/opt/anaconda3/lib/python3.8/site-packages (from fiona>=1.8->geopandas) (1.1.1)\n",
      "Requirement already satisfied: python-dateutil>=2.7.3 in /Users/2hyunie/opt/anaconda3/lib/python3.8/site-packages (from pandas>=1.0.0->geopandas) (2.8.1)\n",
      "Requirement already satisfied: pytz>=2017.3 in /Users/2hyunie/opt/anaconda3/lib/python3.8/site-packages (from pandas>=1.0.0->geopandas) (2021.1)\n",
      "Requirement already satisfied: numpy>=1.16.5 in /Users/2hyunie/opt/anaconda3/lib/python3.8/site-packages (from pandas>=1.0.0->geopandas) (1.20.1)\n",
      "Requirement already satisfied: pyparsing>=2.0.2 in /Users/2hyunie/opt/anaconda3/lib/python3.8/site-packages (from packaging->geopandas) (2.4.7)\n",
      "Requirement already satisfied: altair in /Users/2hyunie/opt/anaconda3/lib/python3.8/site-packages (4.2.0)\n",
      "Requirement already satisfied: vega_datasets in /Users/2hyunie/opt/anaconda3/lib/python3.8/site-packages (0.9.0)\n",
      "Requirement already satisfied: jsonschema>=3.0 in /Users/2hyunie/opt/anaconda3/lib/python3.8/site-packages (from altair) (3.2.0)\n",
      "Requirement already satisfied: numpy in /Users/2hyunie/opt/anaconda3/lib/python3.8/site-packages (from altair) (1.20.1)\n",
      "Requirement already satisfied: entrypoints in /Users/2hyunie/opt/anaconda3/lib/python3.8/site-packages (from altair) (0.3)\n",
      "Requirement already satisfied: toolz in /Users/2hyunie/opt/anaconda3/lib/python3.8/site-packages (from altair) (0.11.1)\n",
      "Requirement already satisfied: pandas>=0.18 in /Users/2hyunie/opt/anaconda3/lib/python3.8/site-packages (from altair) (1.2.4)\n",
      "Requirement already satisfied: jinja2 in /Users/2hyunie/opt/anaconda3/lib/python3.8/site-packages (from altair) (2.11.3)\n",
      "Requirement already satisfied: setuptools in /Users/2hyunie/opt/anaconda3/lib/python3.8/site-packages (from jsonschema>=3.0->altair) (52.0.0.post20210125)\n",
      "Requirement already satisfied: attrs>=17.4.0 in /Users/2hyunie/opt/anaconda3/lib/python3.8/site-packages (from jsonschema>=3.0->altair) (20.3.0)\n",
      "Requirement already satisfied: pyrsistent>=0.14.0 in /Users/2hyunie/opt/anaconda3/lib/python3.8/site-packages (from jsonschema>=3.0->altair) (0.17.3)\n",
      "Requirement already satisfied: six>=1.11.0 in /Users/2hyunie/opt/anaconda3/lib/python3.8/site-packages (from jsonschema>=3.0->altair) (1.15.0)\n",
      "Requirement already satisfied: python-dateutil>=2.7.3 in /Users/2hyunie/opt/anaconda3/lib/python3.8/site-packages (from pandas>=0.18->altair) (2.8.1)\n",
      "Requirement already satisfied: pytz>=2017.3 in /Users/2hyunie/opt/anaconda3/lib/python3.8/site-packages (from pandas>=0.18->altair) (2021.1)\n",
      "Requirement already satisfied: MarkupSafe>=0.23 in /Users/2hyunie/opt/anaconda3/lib/python3.8/site-packages (from jinja2->altair) (1.1.1)\n",
      "Requirement already satisfied: jenkspy in /Users/2hyunie/opt/anaconda3/lib/python3.8/site-packages (0.3.1)\n",
      "Requirement already satisfied: numpy in /Users/2hyunie/opt/anaconda3/lib/python3.8/site-packages (from jenkspy) (1.20.1)\n"
     ]
    }
   ],
   "source": [
    "#import libraries\n",
    "\n",
    "import pandas as pd\n",
    "import numpy as np\n",
    "import matplotlib.pyplot as plt\n",
    "!pip install geopandas\n",
    "import geopandas as gpd\n",
    "!pip install altair vega_datasets\n",
    "import altair as alt\n",
    "!pip install jenkspy\n",
    "import jenkspy"
   ]
  },
  {
   "cell_type": "code",
   "execution_count": 8,
   "id": "4b387117",
   "metadata": {},
   "outputs": [],
   "source": [
    "# import files\n",
    "alt_driv = pd.read_csv('/Users/2hyunie/Documents/qmss_thesis/Datasets/translated/alternate_driv.csv')\n",
    "aware_air = pd.read_csv('/Users/2hyunie/Documents/qmss_thesis/Datasets/translated/env_aware_airpol.csv')\n",
    "aware_cc = pd.read_csv('/Users/2hyunie/Documents/qmss_thesis/Datasets/translated/env_aware_cc.csv')\n",
    "pd.read_csv('/Users/2hyunie/Documents/qmss_thesis/Datasets/translated/env_eff_cons.csv')\n",
    "pd.read_csv('/Users/2hyunie/Documents/qmss_thesis/Datasets/translated/env_eff_pubtrans.csv')\n",
    "pd.read_csv('/Users/2hyunie/Documents/qmss_thesis/Datasets/translated/env_eff_pubtr.csv')"
   ]
  },
  {
   "cell_type": "code",
   "execution_count": 9,
   "id": "f5a29ff4",
   "metadata": {},
   "outputs": [
    {
     "data": {
      "text/html": [
       "<div>\n",
       "<style scoped>\n",
       "    .dataframe tbody tr th:only-of-type {\n",
       "        vertical-align: middle;\n",
       "    }\n",
       "\n",
       "    .dataframe tbody tr th {\n",
       "        vertical-align: top;\n",
       "    }\n",
       "\n",
       "    .dataframe thead th {\n",
       "        text-align: right;\n",
       "    }\n",
       "</style>\n",
       "<table border=\"1\" class=\"dataframe\">\n",
       "  <thead>\n",
       "    <tr style=\"text-align: right;\">\n",
       "      <th></th>\n",
       "      <th>year</th>\n",
       "      <th>category1</th>\n",
       "      <th>category2</th>\n",
       "      <th>1</th>\n",
       "      <th>2</th>\n",
       "    </tr>\n",
       "  </thead>\n",
       "  <tbody>\n",
       "    <tr>\n",
       "      <th>0</th>\n",
       "      <td>2016</td>\n",
       "      <td>total</td>\n",
       "      <td>total</td>\n",
       "      <td>16.4</td>\n",
       "      <td>83.6</td>\n",
       "    </tr>\n",
       "    <tr>\n",
       "      <th>1</th>\n",
       "      <td>2016</td>\n",
       "      <td>geog</td>\n",
       "      <td>urban</td>\n",
       "      <td>17.6</td>\n",
       "      <td>82.4</td>\n",
       "    </tr>\n",
       "    <tr>\n",
       "      <th>2</th>\n",
       "      <td>2016</td>\n",
       "      <td>geog</td>\n",
       "      <td>rural</td>\n",
       "      <td>10.9</td>\n",
       "      <td>89.1</td>\n",
       "    </tr>\n",
       "    <tr>\n",
       "      <th>3</th>\n",
       "      <td>2016</td>\n",
       "      <td>gender</td>\n",
       "      <td>male</td>\n",
       "      <td>16.8</td>\n",
       "      <td>83.2</td>\n",
       "    </tr>\n",
       "    <tr>\n",
       "      <th>4</th>\n",
       "      <td>2016</td>\n",
       "      <td>gender</td>\n",
       "      <td>female</td>\n",
       "      <td>14.0</td>\n",
       "      <td>86.0</td>\n",
       "    </tr>\n",
       "  </tbody>\n",
       "</table>\n",
       "</div>"
      ],
      "text/plain": [
       "   year category1 category2     1     2\n",
       "0  2016     total     total  16.4  83.6\n",
       "1  2016      geog     urban  17.6  82.4\n",
       "2  2016      geog     rural  10.9  89.1\n",
       "3  2016    gender      male  16.8  83.2\n",
       "4  2016    gender    female  14.0  86.0"
      ]
     },
     "execution_count": 9,
     "metadata": {},
     "output_type": "execute_result"
    }
   ],
   "source": [
    "alt_driv.head()"
   ]
  },
  {
   "cell_type": "markdown",
   "id": "edc5e4b6",
   "metadata": {},
   "source": [
    "## Data Analysis"
   ]
  },
  {
   "cell_type": "code",
   "execution_count": null,
   "id": "09d8e625",
   "metadata": {},
   "outputs": [],
   "source": []
  },
  {
   "cell_type": "markdown",
   "id": "1d120e92",
   "metadata": {},
   "source": [
    "## Spatial Analysis"
   ]
  },
  {
   "cell_type": "code",
   "execution_count": null,
   "id": "583bfcd3",
   "metadata": {},
   "outputs": [],
   "source": []
  }
 ],
 "metadata": {
  "kernelspec": {
   "display_name": "Python 3",
   "language": "python",
   "name": "python3"
  },
  "language_info": {
   "codemirror_mode": {
    "name": "ipython",
    "version": 3
   },
   "file_extension": ".py",
   "mimetype": "text/x-python",
   "name": "python",
   "nbconvert_exporter": "python",
   "pygments_lexer": "ipython3",
   "version": "3.8.8"
  }
 },
 "nbformat": 4,
 "nbformat_minor": 5
}
